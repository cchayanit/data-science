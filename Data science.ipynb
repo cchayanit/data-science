{
 "metadata": {
  "language_info": {
   "codemirror_mode": {
    "name": "ipython",
    "version": 3
   },
   "file_extension": ".py",
   "mimetype": "text/x-python",
   "name": "python",
   "nbconvert_exporter": "python",
   "pygments_lexer": "ipython3",
   "version": "3.8.3-final"
  },
  "orig_nbformat": 2,
  "kernelspec": {
   "name": "python3",
   "display_name": "Python 3",
   "language": "python"
  }
 },
 "nbformat": 4,
 "nbformat_minor": 2,
 "cells": [
  {
   "cell_type": "code",
   "execution_count": 1,
   "metadata": {},
   "outputs": [],
   "source": [
    "import pandas as pd\n",
    "import urllib"
   ]
  },
  {
   "cell_type": "code",
   "execution_count": 2,
   "metadata": {},
   "outputs": [],
   "source": [
    "df = pd.read_csv('raayngaancchamnwnphuutidechuue-covid-19-pracchamwan.csv')\n"
   ]
  },
  {
   "cell_type": "code",
   "execution_count": 3,
   "metadata": {},
   "outputs": [
    {
     "output_type": "execute_result",
     "data": {
      "text/plain": [
       "         No. announce_date notification_date   sex   age nationality  \\\n",
       "0          1     1/12/2020               NaN  หญิง  61.0       China   \n",
       "1          2     1/17/2020               NaN  หญิง  74.0       China   \n",
       "2          3     1/22/2020               NaN  หญิง  73.0    Thailand   \n",
       "3          4     1/22/2020               NaN   ชาย  68.0       China   \n",
       "4          5     1/24/2020               NaN  หญิง  66.0       China   \n",
       "...      ...           ...               ...   ...   ...         ...   \n",
       "13495  13496     1/24/2021         1/23/2021  หญิง  49.0    Thailand   \n",
       "13496  13497     1/24/2021         1/23/2021   ชาย  31.0    Thailand   \n",
       "13497  13498     1/24/2021         1/23/2021   ชาย  45.0    Thailand   \n",
       "13498  13499     1/24/2021         1/23/2021  หญิง  29.0    Thailand   \n",
       "13499  13500     1/24/2021         1/23/2021  หญิง  44.0    Thailand   \n",
       "\n",
       "      province_of_isolation province_of_onset district_of_onset  \\\n",
       "0             กรุงเทพมหานคร     กรุงเทพมหานคร               NaN   \n",
       "1             กรุงเทพมหานคร     กรุงเทพมหานคร               NaN   \n",
       "2                    นครปฐม            นครปฐม             เมือง   \n",
       "3             กรุงเทพมหานคร     กรุงเทพมหานคร               NaN   \n",
       "4                   นนทบุรี     กรุงเทพมหานคร               NaN   \n",
       "...                     ...               ...               ...   \n",
       "13495           สมุทรปราการ     กรุงเทพมหานคร           บางซื่อ   \n",
       "13496           สมุทรปราการ     กรุงเทพมหานคร          ลาดพร้าว   \n",
       "13497           สมุทรปราการ     กรุงเทพมหานคร            ดินแดง   \n",
       "13498           สมุทรปราการ     กรุงเทพมหานคร          คันนายาว   \n",
       "13499           สมุทรปราการ     กรุงเทพมหานคร         สามเสนนอก   \n",
       "\n",
       "                                                risk  \n",
       "0                   คนต่างชาติเดินทางมาจากต่างประเทศ  \n",
       "1                   คนต่างชาติเดินทางมาจากต่างประเทศ  \n",
       "2                   คนต่างชาติเดินทางมาจากต่างประเทศ  \n",
       "3                   คนต่างชาติเดินทางมาจากต่างประเทศ  \n",
       "4                   คนต่างชาติเดินทางมาจากต่างประเทศ  \n",
       "...                                              ...  \n",
       "13495                                     ระบุไม่ได้  \n",
       "13496    สัมผัสใกล้ชิดกับผู้ป่วยยืนยันรายก่อนหน้านี้  \n",
       "13497    สัมผัสใกล้ชิดกับผู้ป่วยยืนยันรายก่อนหน้านี้  \n",
       "13498  ไปสถานที่ชุมชน เช่น ตลาดนัด สถานที่ท่องเที่ยว  \n",
       "13499    สัมผัสใกล้ชิดกับผู้ป่วยยืนยันรายก่อนหน้านี้  \n",
       "\n",
       "[13500 rows x 10 columns]"
      ],
      "text/html": "<div>\n<style scoped>\n    .dataframe tbody tr th:only-of-type {\n        vertical-align: middle;\n    }\n\n    .dataframe tbody tr th {\n        vertical-align: top;\n    }\n\n    .dataframe thead th {\n        text-align: right;\n    }\n</style>\n<table border=\"1\" class=\"dataframe\">\n  <thead>\n    <tr style=\"text-align: right;\">\n      <th></th>\n      <th>No.</th>\n      <th>announce_date</th>\n      <th>notification_date</th>\n      <th>sex</th>\n      <th>age</th>\n      <th>nationality</th>\n      <th>province_of_isolation</th>\n      <th>province_of_onset</th>\n      <th>district_of_onset</th>\n      <th>risk</th>\n    </tr>\n  </thead>\n  <tbody>\n    <tr>\n      <th>0</th>\n      <td>1</td>\n      <td>1/12/2020</td>\n      <td>NaN</td>\n      <td>หญิง</td>\n      <td>61.0</td>\n      <td>China</td>\n      <td>กรุงเทพมหานคร</td>\n      <td>กรุงเทพมหานคร</td>\n      <td>NaN</td>\n      <td>คนต่างชาติเดินทางมาจากต่างประเทศ</td>\n    </tr>\n    <tr>\n      <th>1</th>\n      <td>2</td>\n      <td>1/17/2020</td>\n      <td>NaN</td>\n      <td>หญิง</td>\n      <td>74.0</td>\n      <td>China</td>\n      <td>กรุงเทพมหานคร</td>\n      <td>กรุงเทพมหานคร</td>\n      <td>NaN</td>\n      <td>คนต่างชาติเดินทางมาจากต่างประเทศ</td>\n    </tr>\n    <tr>\n      <th>2</th>\n      <td>3</td>\n      <td>1/22/2020</td>\n      <td>NaN</td>\n      <td>หญิง</td>\n      <td>73.0</td>\n      <td>Thailand</td>\n      <td>นครปฐม</td>\n      <td>นครปฐม</td>\n      <td>เมือง</td>\n      <td>คนต่างชาติเดินทางมาจากต่างประเทศ</td>\n    </tr>\n    <tr>\n      <th>3</th>\n      <td>4</td>\n      <td>1/22/2020</td>\n      <td>NaN</td>\n      <td>ชาย</td>\n      <td>68.0</td>\n      <td>China</td>\n      <td>กรุงเทพมหานคร</td>\n      <td>กรุงเทพมหานคร</td>\n      <td>NaN</td>\n      <td>คนต่างชาติเดินทางมาจากต่างประเทศ</td>\n    </tr>\n    <tr>\n      <th>4</th>\n      <td>5</td>\n      <td>1/24/2020</td>\n      <td>NaN</td>\n      <td>หญิง</td>\n      <td>66.0</td>\n      <td>China</td>\n      <td>นนทบุรี</td>\n      <td>กรุงเทพมหานคร</td>\n      <td>NaN</td>\n      <td>คนต่างชาติเดินทางมาจากต่างประเทศ</td>\n    </tr>\n    <tr>\n      <th>...</th>\n      <td>...</td>\n      <td>...</td>\n      <td>...</td>\n      <td>...</td>\n      <td>...</td>\n      <td>...</td>\n      <td>...</td>\n      <td>...</td>\n      <td>...</td>\n      <td>...</td>\n    </tr>\n    <tr>\n      <th>13495</th>\n      <td>13496</td>\n      <td>1/24/2021</td>\n      <td>1/23/2021</td>\n      <td>หญิง</td>\n      <td>49.0</td>\n      <td>Thailand</td>\n      <td>สมุทรปราการ</td>\n      <td>กรุงเทพมหานคร</td>\n      <td>บางซื่อ</td>\n      <td>ระบุไม่ได้</td>\n    </tr>\n    <tr>\n      <th>13496</th>\n      <td>13497</td>\n      <td>1/24/2021</td>\n      <td>1/23/2021</td>\n      <td>ชาย</td>\n      <td>31.0</td>\n      <td>Thailand</td>\n      <td>สมุทรปราการ</td>\n      <td>กรุงเทพมหานคร</td>\n      <td>ลาดพร้าว</td>\n      <td>สัมผัสใกล้ชิดกับผู้ป่วยยืนยันรายก่อนหน้านี้</td>\n    </tr>\n    <tr>\n      <th>13497</th>\n      <td>13498</td>\n      <td>1/24/2021</td>\n      <td>1/23/2021</td>\n      <td>ชาย</td>\n      <td>45.0</td>\n      <td>Thailand</td>\n      <td>สมุทรปราการ</td>\n      <td>กรุงเทพมหานคร</td>\n      <td>ดินแดง</td>\n      <td>สัมผัสใกล้ชิดกับผู้ป่วยยืนยันรายก่อนหน้านี้</td>\n    </tr>\n    <tr>\n      <th>13498</th>\n      <td>13499</td>\n      <td>1/24/2021</td>\n      <td>1/23/2021</td>\n      <td>หญิง</td>\n      <td>29.0</td>\n      <td>Thailand</td>\n      <td>สมุทรปราการ</td>\n      <td>กรุงเทพมหานคร</td>\n      <td>คันนายาว</td>\n      <td>ไปสถานที่ชุมชน เช่น ตลาดนัด สถานที่ท่องเที่ยว</td>\n    </tr>\n    <tr>\n      <th>13499</th>\n      <td>13500</td>\n      <td>1/24/2021</td>\n      <td>1/23/2021</td>\n      <td>หญิง</td>\n      <td>44.0</td>\n      <td>Thailand</td>\n      <td>สมุทรปราการ</td>\n      <td>กรุงเทพมหานคร</td>\n      <td>สามเสนนอก</td>\n      <td>สัมผัสใกล้ชิดกับผู้ป่วยยืนยันรายก่อนหน้านี้</td>\n    </tr>\n  </tbody>\n</table>\n<p>13500 rows × 10 columns</p>\n</div>"
     },
     "metadata": {},
     "execution_count": 3
    }
   ],
   "source": [
    "df"
   ]
  },
  {
   "source": [
    "เเก้ไขชื่อ column ให้เป็นภาษาไทย"
   ],
   "cell_type": "markdown",
   "metadata": {}
  },
  {
   "cell_type": "code",
   "execution_count": null,
   "metadata": {},
   "outputs": [],
   "source": [
    "df.rename(columns = {'No.':'รหัสผู้ป่วย'},inplace = True)\n",
    "df.rename(columns = {'announce_date':'วันที่แถลงข่าว'},inplace = True)\n",
    "df.rename(columns = {'notification_date':'วันที่กระทรวงได้รับรายงาน'},inplace = True)\n",
    "df.rename(columns = {'sex':'เพศผู้ป่วย'},inplace = True)\n",
    "df.rename(columns = {'age':'อายุของผู้ป่วย'},inplace = True)\n",
    "df.rename(columns = {'nationality':'สัญชาติ'},inplace = True)\n",
    "df.rename(columns = {'province_of_isolation':'จังหวัดที่รักษาตัว'},inplace = True)\n",
    "df.rename(columns = {'province_of_onset':'Notification Date'},inplace = True)\n",
    "df.rename(columns = {'district_of_onset':'Notification Date'},inplace = True)\n",
    "df.rename(columns = {'risk':'Notification Date'},inplace = True)"
   ]
  }
 ]
}